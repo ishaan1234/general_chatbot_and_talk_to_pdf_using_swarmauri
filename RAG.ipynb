{
 "cells": [
  {
   "cell_type": "code",
   "execution_count": null,
   "id": "d06b82ba",
   "metadata": {},
   "outputs": [],
   "source": []
  },
  {
   "cell_type": "code",
   "execution_count": 1,
   "id": "db3fb44e",
   "metadata": {},
   "outputs": [],
   "source": [
    "import os\n",
    "import gradio as gr\n",
    "from swarmauri.standard.llms.concrete.GroqModel import GroqModel\n",
    "from swarmauri.standard.conversations.concrete.MaxSystemContextConversation import MaxSystemContextConversation\n",
    "from swarmauri.standard.conversations.concrete.Conversation import Conversation\n",
    "from swarmauri.standard.vector_stores.concrete.TfidfVectorStore import TfidfVectorStore\n",
    "from swarmauri.standard.messages.concrete.SystemMessage import SystemMessage\n",
    "from swarmauri.standard.messages.concrete.HumanMessage import HumanMessage\n",
    "from swarmauri.standard.documents.concrete.Document import Document\n",
    "from swarmauri.standard.agents.concrete.RagAgent import RagAgent\n",
    "from swarmauri.standard.agents.concrete.SimpleConversationAgent import SimpleConversationAgent\n",
    "\n",
    "\n",
    "os.environ['GROQ_API_KEY'] = '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'\n",
    "llm = GroqModel(api_key=os.environ['GROQ_API_KEY'])"
   ]
  },
  {
   "cell_type": "code",
   "execution_count": 2,
   "id": "f4818764",
   "metadata": {},
   "outputs": [],
   "source": [
    "def extract_text_from_pdf(pdf_file_path):\n",
    "    import fitz\n",
    "    document = fitz.open(pdf_file_path)\n",
    "    text = \"\"\n",
    "    for page_num in range(document.page_count):\n",
    "        page = document[page_num]\n",
    "        text += page.get_text()\n",
    "    document.close()\n",
    "    return text"
   ]
  },
  {
   "cell_type": "code",
   "execution_count": 3,
   "id": "322faab0",
   "metadata": {},
   "outputs": [],
   "source": [
    "def process_pdf(input_text, history, pdf_file):\n",
    "    if pdf_file:\n",
    "        temp_path = pdf_file.name\n",
    "        text = extract_text_from_pdf(temp_path)\n",
    "\n",
    "        system_context = SystemMessage(content='You are a RAG assistant that gives information about the pdf uploaded.')\n",
    "        conversation = MaxSystemContextConversation(system_context=system_context)\n",
    "        vector_store = TfidfVectorStore()\n",
    "        documents = [Document(content=text)]\n",
    "        vector_store.add_documents(documents)\n",
    "\n",
    "        agent = RagAgent(\n",
    "            llm=llm,\n",
    "            conversation=conversation,\n",
    "            system_context=system_context,\n",
    "            vector_store=vector_store\n",
    "        )\n",
    "    else:\n",
    "#         system_context = SystemMessage(content='You are a good conversation partner.')\n",
    "        conversation = Conversation()\n",
    "        initial_user_message = HumanMessage(content=\"Hello\")\n",
    "        conversation.add_message(initial_user_message)\n",
    "        \n",
    "        agent = SimpleConversationAgent(\n",
    "            llm=llm,\n",
    "            conversation=conversation\n",
    "        )\n",
    "    \n",
    "    response = agent.exec(input_text)\n",
    "    return str(response)"
   ]
  },
  {
   "cell_type": "code",
   "execution_count": 4,
   "id": "dac04c8e",
   "metadata": {},
   "outputs": [
    {
     "name": "stdout",
     "output_type": "stream",
     "text": [
      "Running on local URL:  http://127.0.0.1:7860\n",
      "Running on public URL: https://235b8f1f6e2ed5bbd2.gradio.live\n",
      "\n",
      "This share link expires in 72 hours. For free permanent hosting and GPU upgrades, run `gradio deploy` from Terminal to deploy to Spaces (https://huggingface.co/spaces)\n"
     ]
    },
    {
     "data": {
      "text/html": [
       "<div><iframe src=\"https://235b8f1f6e2ed5bbd2.gradio.live\" width=\"100%\" height=\"500\" allow=\"autoplay; camera; microphone; clipboard-read; clipboard-write;\" frameborder=\"0\" allowfullscreen></iframe></div>"
      ],
      "text/plain": [
       "<IPython.core.display.HTML object>"
      ]
     },
     "metadata": {},
     "output_type": "display_data"
    }
   ],
   "source": [
    "def main():\n",
    "    iface = gr.ChatInterface(\n",
    "        fn=process_pdf,\n",
    "        additional_inputs=gr.File(label=\"Upload PDF\"),\n",
    "        title=\"PDF Document Analyzer\",\n",
    "        description=\"Upload a PDF file to extract text and analyze it.\"\n",
    "    )\n",
    "    iface.launch(share=True)\n",
    "\n",
    "if __name__ == \"__main__\":\n",
    "    main()"
   ]
  },
  {
   "cell_type": "code",
   "execution_count": null,
   "id": "2719e80e",
   "metadata": {},
   "outputs": [],
   "source": []
  }
 ],
 "metadata": {
  "kernelspec": {
   "display_name": "Python 3 (ipykernel)",
   "language": "python",
   "name": "python3"
  },
  "language_info": {
   "codemirror_mode": {
    "name": "ipython",
    "version": 3
   },
   "file_extension": ".py",
   "mimetype": "text/x-python",
   "name": "python",
   "nbconvert_exporter": "python",
   "pygments_lexer": "ipython3",
   "version": "3.10.9"
  }
 },
 "nbformat": 4,
 "nbformat_minor": 5
}
